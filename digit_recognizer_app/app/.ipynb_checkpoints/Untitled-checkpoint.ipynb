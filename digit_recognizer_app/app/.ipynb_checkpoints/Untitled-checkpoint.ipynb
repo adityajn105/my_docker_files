{
 "cells": [
  {
   "cell_type": "code",
   "execution_count": 1,
   "metadata": {
    "collapsed": true
   },
   "outputs": [],
   "source": [
    "%matplotlib inline\n",
    "import matplotlib.pyplot as plt"
   ]
  },
  {
   "cell_type": "code",
   "execution_count": 43,
   "metadata": {},
   "outputs": [
    {
     "name": "stderr",
     "output_type": "stream",
     "text": [
      " * Running on http://0.0.0.0:3000/ (Press CTRL+C to quit)\n",
      "127.0.0.1 - - [03/Apr/2020 12:27:08] \"\u001b[37mPOST /charrecognize HTTP/1.1\u001b[0m\" 200 -\n"
     ]
    }
   ],
   "source": [
    "from flask import Flask, render_template, request, jsonify, redirect\n",
    "import base64\n",
    "import numpy as np\n",
    "import pickle as pkl\n",
    "import cv2\n",
    "import os\n",
    "from predict import predict_digit\n",
    "app = Flask(__name__)\n",
    "stats = None\n",
    "img4 = None\n",
    "\n",
    "if not os.path.exists('stats/stats.pkl'):\n",
    "    stats = { 'yes':0, 'no':0 }\n",
    "    with open('stats/stats.pkl', 'wb') as fp:\n",
    "        pkl.dump(stats,fp)\n",
    "\n",
    "\n",
    "@app.route('/')\n",
    "def home():\n",
    "    acc = '100'\n",
    "    with open('stats/stats.pkl', 'rb') as fp:\n",
    "        global stats;\n",
    "        stats = pkl.load(fp)\n",
    "        total = sum(stats.values())\n",
    "        if total!=0: acc = f\"{ 100*stats['yes']/total:.2f} ({stats['yes']}/{total})\"\n",
    "    return render_template('index.html',data = {'status':False, 'accuracy':acc} ) \n",
    "\n",
    "@app.route('/charrecognize', methods = ['POST'])\n",
    "def predict():\n",
    "    global img4;\n",
    "    if request.method == 'POST':\n",
    "        data = request.get_json()\n",
    "        imagebase64 = data['image']\n",
    "        binary = base64.b64decode(imagebase64)\n",
    "        img = np.asarray(bytearray(binary), dtype=\"uint8\")\n",
    "        img = cv2.imdecode(img, 0)\n",
    "        \n",
    "        canny = cv2.Canny( cv2.blur(img, (3,3)), 100, 250)\n",
    "        contours, _ = cv2.findContours(canny, cv2.RETR_EXTERNAL, cv2.CHAIN_APPROX_SIMPLE )\n",
    "        idx = np.argmax( list( map( cv2.contourArea, contours ) ) )\n",
    "        x,y,w,h = cv2.boundingRect(contours[idx])\n",
    "        img = 255-img[ y:y+h, x:x+w ]\n",
    "        img4 = img\n",
    "        img = (cv2.resize(img, (20, 20))>127)*1\n",
    "        final = np.zeros( (28,28) )\n",
    "        final[ 4:24,4:24 ] = img\n",
    "        final = final.reshape(1,28,28,1)\n",
    "        return jsonify({\n",
    "            'prediction': predict_digit(final),\n",
    "            'status': True\n",
    "        });\n",
    "\n",
    "@app.route('/no', methods=['get'])\n",
    "def no():\n",
    "    with open('stats/stats.pkl', 'wb') as fp:\n",
    "        stats['no']+=1\n",
    "        pkl.dump(stats,fp)\n",
    "    return redirect('/')\n",
    "\n",
    "@app.route('/yes', methods=['get'])\n",
    "def yes():\n",
    "    with open('stats/stats.pkl', 'wb') as fp:\n",
    "        stats['yes']+=1\n",
    "        pkl.dump(stats,fp)\n",
    "    return redirect('/')\n",
    "        \n",
    "if __name__=='__main__':\n",
    "    app.run(host = '0.0.0.0',port = int(3000))"
   ]
  },
  {
   "cell_type": "code",
   "execution_count": 48,
   "metadata": {},
   "outputs": [
    {
     "data": {
      "text/plain": [
       "0"
      ]
     },
     "execution_count": 48,
     "metadata": {},
     "output_type": "execute_result"
    }
   ],
   "source": [
    "img4.min()"
   ]
  },
  {
   "cell_type": "code",
   "execution_count": 45,
   "metadata": {},
   "outputs": [
    {
     "data": {
      "text/plain": [
       "<matplotlib.image.AxesImage at 0x7f6f95f70940>"
      ]
     },
     "execution_count": 45,
     "metadata": {},
     "output_type": "execute_result"
    },
    {
     "data": {
      "image/png": "[encoded data removed]",
      "text/plain": [
       "<Figure size 432x288 with 1 Axes>"
      ]
     },
     "metadata": {},
     "output_type": "display_data"
    }
   ],
   "source": [
    "plt.imshow( cv2.resize(img, (20, 20), cmap='gray' )"
   ]
  },
  {
   "cell_type": "code",
   "execution_count": 19,
   "metadata": {},
   "outputs": [
    {
     "data": {
      "text/plain": [
       "(25, 15, 156, 243)"
      ]
     },
     "execution_count": 19,
     "metadata": {},
     "output_type": "execute_result"
    }
   ],
   "source": [
    "cv2.boundingRect(img4[1][0])"
   ]
  },
  {
   "cell_type": "code",
   "execution_count": 24,
   "metadata": {},
   "outputs": [
    {
     "data": {
      "text/plain": [
       "<matplotlib.image.AxesImage at 0x7f6fcc3dd748>"
      ]
     },
     "execution_count": 24,
     "metadata": {},
     "output_type": "execute_result"
    },
    {
     "data": {
      "image/png": "[encoded data removed]",
      "text/plain": [
       "<Figure size 432x288 with 1 Axes>"
      ]
     },
     "metadata": {},
     "output_type": "display_data"
    }
   ],
   "source": [
    "plt.imshow(img4[0][ 15:15+243,25:25+156 ])"
   ]
  },
  {
   "cell_type": "code",
   "execution_count": null,
   "metadata": {
    "collapsed": true
   },
   "outputs": [],
   "source": []
  }
 ],
 "metadata": {
  "kernelspec": {
   "display_name": "Python 3",
   "language": "python",
   "name": "python3"
  },
  "language_info": {
   "codemirror_mode": {
    "name": "ipython",
    "version": 3
   },
   "file_extension": ".py",
   "mimetype": "text/x-python",
   "name": "python",
   "nbconvert_exporter": "python",
   "pygments_lexer": "ipython3",
   "version": "3.6.10"
  }
 },
 "nbformat": 4,
 "nbformat_minor": 2
}
